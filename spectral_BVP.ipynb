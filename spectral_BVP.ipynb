{
 "cells": [
  {
   "cell_type": "markdown",
   "metadata": {},
   "source": [
    "# Boundary value problems with FFT\n",
    "\n",
    "In class, we saw a couple of methods to approximate BVPs using FFTs. Let's try them out now. Our model problem will be the Poisson equation\n",
    "\n",
    "\\begin{align}\n",
    "\\frac{\\partial^2 u}{\\partial x^2} = e^{4x}\\\\\n",
    "u(-1) = u(1) = 0\n",
    "\\end{align}\n",
    "\n",
    "which corresponds to *Program 13* of Trefethen's *Spectral Methods in Matlab*. The analytical solution to this problem is\n",
    "\n",
    "\\begin{equation}\n",
    "u(x) = \\frac{1}{16}\\left(e^{4x} - \\sinh(4)\\cdot x - \\cosh(4)\\right)\n",
    "\\end{equation}\n",
    "\n",
    "## Finite difference and FFTs\n",
    "\n",
    "Discretizing the above equation with finite differences, we get\n",
    "\n",
    "\\begin{equation}"
   ]
  },
  {
   "cell_type": "code",
   "execution_count": null,
   "metadata": {
    "collapsed": true
   },
   "outputs": [],
   "source": []
  }
 ],
 "metadata": {
  "kernelspec": {
   "display_name": "Python 2",
   "language": "python",
   "name": "python2"
  },
  "language_info": {
   "codemirror_mode": {
    "name": "ipython",
    "version": 2
   },
   "file_extension": ".py",
   "mimetype": "text/x-python",
   "name": "python",
   "nbconvert_exporter": "python",
   "pygments_lexer": "ipython2",
   "version": "2.7.9"
  }
 },
 "nbformat": 4,
 "nbformat_minor": 0
}
