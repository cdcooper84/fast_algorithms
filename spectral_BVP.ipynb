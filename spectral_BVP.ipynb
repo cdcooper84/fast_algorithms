{
 "cells": [
  {
   "cell_type": "markdown",
   "metadata": {},
   "source": [
    "# Boundary value problems with FFT\n",
    "\n",
    "In class, we saw a couple of methods to approximate BVPs using FFTs. Let's try them out now. Our model problem will be the Poisson equation\n",
    "\n",
    "\\begin{align}\n",
    "\\frac{\\partial^2 u}{\\partial x^2} &= \\frac{4 (6 \\cos(2x) + \\cos(4 x) - 3)}{(\\cos(2 x) - 3)^3}\\\\\n",
    "u(0) &= u(2\\pi) = 1\n",
    "\\end{align}\n",
    "\n",
    "The analytical solution to this problem is\n",
    "\n",
    "\\begin{equation}\n",
    "u(x) = \\frac{1}{1+\\sin^2(x)}\n",
    "\\end{equation}\n",
    "\n",
    "## Finite difference and FFTs\n",
    "\n",
    "Discretizing the above equation with finite differences for $N$ nodes, we get\n",
    "\n",
    "\\begin{equation}\n",
    "\\frac{u_{n-1}-2u_n+u_{n+1}}{h^2} = \\frac{4 (6 \\cos(2x) + \\cos(4 x) - 3)}{(\\cos(2 x) - 3)^3} = f(x)\n",
    "\\end{equation}\n",
    "\n",
    "Representing $u_n$ in a Fourier expansion\n",
    "\n",
    "\\begin{equation}\n",
    "u_n = \\sum_{k=-\\frac{N}{2}+1}^\\frac{N}{2} U_k e^\\frac{i2\\pi kn}{N}\n",
    "\\end{equation}\n",
    "\n",
    "we can rewrite $u_{n+1}$ and $u_{n-1}$ as\n",
    "\n",
    "\\begin{align}\n",
    "u_{n+1} = \\sum_{k=-\\frac{N}{2}+1}^\\frac{N}{2} U_k e^\\frac{i2\\pi kn}{N} e^\\frac{i2\\pi k}{N}\\\\\n",
    "u_{n-1} = \\sum_{k=-\\frac{N}{2}+1}^\\frac{N}{2} U_k e^\\frac{i2\\pi kn}{N} e^{-\\frac{i2\\pi k}{N}}.\n",
    "\\end{align}\n",
    "\n",
    "and also,\n",
    "\n",
    "\\begin{equation}\n",
    "f_n = \\sum_{k=-\\frac{N}{2}+1}^\\frac{N}{2} F_k e^\\frac{i2\\pi kn}{N}\n",
    "\\end{equation}\n",
    "\n",
    "Replacing these expressions in the discretized equation and factorizing, we get\n",
    "\n",
    "\\begin{equation}\n",
    "\\sum_{k=-\\frac{N}{2}+1}^\\frac{N}{2}\\left[ U_k e^\\frac{i2\\pi kn}{N} \\left( e^\\frac{i2\\pi k}{N} - 2 + e^{-\\frac{i2\\pi k}{N}} \\right) \\right] = h^2 \\sum_{k=-\\frac{N}{2}+1}^\\frac{N}{2} F_k e^\\frac{i2\\pi kn}{N}\n",
    "\\end{equation}\n",
    "\n",
    "But\n",
    "\n",
    "\\begin{equation}\n",
    " e^\\frac{i2\\pi k}{N} + e^{-\\frac{i2\\pi k}{N}} = 2\\cos\\left(\\frac{2\\pi k}{N}\\right)\n",
    "\\end{equation}\n",
    "\n",
    "which makes the previous expression \n",
    "\n",
    "\\begin{equation}\n",
    "\\sum_{k=-\\frac{N}{2}+1}^\\frac{N}{2}\\left[ U_k e^\\frac{i2\\pi kn}{N} 2\\left( \\cos\\left(\\frac{2\\pi k}{N}\\right) - 1 \\right) \\right] = h^2 \\sum_{k=-\\frac{N}{2}+1}^\\frac{N}{2} F_k e^\\frac{i2\\pi kn}{N}\n",
    "\\end{equation}\n",
    "\n",
    "Then, for each $k$\n",
    "\n",
    "\\begin{align}\n",
    "2U_k & \\left( \\cos\\left(\\frac{2\\pi k}{N}\\right) - 1 \\right) = h^2 F_k\\\\\n",
    "\\Rightarrow U_k &= \\frac{h^2 F_k}{2\\left( \\cos\\left(\\frac{2\\pi k}{N}\\right) - 1 \\right)}\n",
    "\\end{align}\n",
    "\n",
    "and we can obtain $u(x)$ with an inverse FFT. \n",
    "\n",
    "## What about boundary conditions?\n",
    "By using an FFT-based method, implicitly you are saying that the function is periodic, but so far, we just have the value up to a linear function (as it is a Poisson problem and the second derivative of a linear function is zero). There are two ways to include boundary conditions:\n",
    "\n",
    "   1. Use an interpolant that accomplishes the boundary conditions\n",
    "   2. Add a (linear or constant) function that accomplishes with the BCs\n",
    "   \n",
    "In our case, the inverse DFT at $n=0$ is not necessarily equal to 0, then, we need to add $\\Delta u = 1-u(0)$ to the final result. \n",
    "\n",
    "Let's try this out!"
   ]
  },
  {
   "cell_type": "code",
   "execution_count": 39,
   "metadata": {
    "collapsed": false
   },
   "outputs": [
    {
     "data": {
      "text/plain": [
       "<matplotlib.legend.Legend at 0x7f61b1cda290>"
      ]
     },
     "execution_count": 39,
     "metadata": {},
     "output_type": "execute_result"
    },
    {
     "data": {
      "image/png": "[encoded data removed]",
      "text/plain": [
       "<matplotlib.figure.Figure at 0x7f61b2ffa7d0>"
      ]
     },
     "metadata": {},
     "output_type": "display_data"
    }
   ],
   "source": [
    "import numpy\n",
    "import numpy.fft\n",
    "import scipy.fftpack\n",
    "from matplotlib import pyplot\n",
    "from math import pi\n",
    "%matplotlib inline\n",
    "\n",
    "def function_0(x):\n",
    "    return (4*(6*numpy.cos(2*x) + numpy.cos(4*x) - 3))/(numpy.cos(2*x) - 3)**3\n",
    "        \n",
    "def function_0_exact(x):\n",
    "    return 1./(1.+numpy.sin(x)**2)\n",
    "        \n",
    "def solve_poisson(x, h, N, RHS_function):\n",
    "\n",
    "    f = RHS_function(x)\n",
    "    \n",
    "    F_k = numpy.fft.fft(f)\n",
    "\n",
    "    k = numpy.arange(1,N)\n",
    "\n",
    "    U_k = numpy.zeros(N, dtype=complex)\n",
    "    U_k[1:] = h**2*F_k[1:]/(2*(numpy.cos(2*pi*k/N)-1))\n",
    "\n",
    "    n = numpy.arange(N)\n",
    "    F_0_2prime = numpy.sum(-(2*pi*n/N)**2*f)\n",
    "\n",
    "\n",
    "    U_k[0] = -h**2 * F_0_2prime/(8*pi**2/N**2) \n",
    "\n",
    "    u = numpy.fft.ifft(U_k) # u up to an additive constant or linear function\n",
    "\n",
    "    f_add = 1-u[0]\n",
    "    u += f_add\n",
    "    \n",
    "    return u\n",
    "     \n",
    "\n",
    "N = 32\n",
    "\n",
    "xmin = 0.\n",
    "xmax = 2*pi\n",
    "\n",
    "h = (xmax-xmin)/(N)\n",
    "\n",
    "x = numpy.linspace(xmin, xmax, N, endpoint=False)\n",
    "\n",
    "u = solve_poisson(x, h, N, function_0)\n",
    "\n",
    "u_exact = function_0_exact(x)\n",
    "\n",
    "pyplot.plot(x, u, c='k', ls='-', label='numerical')\n",
    "pyplot.plot(x, u_exact, c='k', ls=':', label='exact')\n",
    "pyplot.legend(loc='best')"
   ]
  },
  {
   "cell_type": "markdown",
   "metadata": {},
   "source": [
    "Let's look at the convergence"
   ]
  },
  {
   "cell_type": "code",
   "execution_count": 40,
   "metadata": {
    "collapsed": false
   },
   "outputs": [
    {
     "data": {
      "image/png": "[encoded data removed]",
      "text/plain": [
       "<matplotlib.figure.Figure at 0x7f61b1bbf690>"
      ]
     },
     "metadata": {},
     "output_type": "display_data"
    }
   ],
   "source": [
    "def L2_error(f, f_exact):\n",
    "    return numpy.sqrt(numpy.sum((f-f_exact)**2)/numpy.sum(f_exact**2))\n",
    "\n",
    "def convergence_test(N_array, function, function_exact, xmin, xmax):\n",
    "\n",
    "    error = numpy.array([])\n",
    "    for N in N_array:\n",
    "     \n",
    "        h = (xmax-xmin)/(N)\n",
    "        x = numpy.linspace(xmin, xmax, N, endpoint=False)\n",
    "        \n",
    "        u = solve_poisson(x, h, N, function)\n",
    "        \n",
    "        u_exact = function_exact(x)\n",
    "        \n",
    "        e = L2_error(u, u_exact)\n",
    "    \n",
    "        error = numpy.append(error,e)    \n",
    "\n",
    "    pyplot.loglog(N_array, error, ls='', marker='+', c='k', ms=10)\n",
    "\n",
    "xmin = 0.\n",
    "xmax = 2*pi\n",
    "\n",
    "N_array = numpy.array([8, 16, 32, 64, 128, 256, 512])\n",
    "convergence_test(N_array, function_0, function_0_exact, xmin, xmax)"
   ]
  },
  {
   "cell_type": "markdown",
   "metadata": {},
   "source": [
    "As expected, we see second order convergence from the finite difference scheme.\n",
    "\n",
    "What if we use an interpolant that accomplishes the BCs? Let's try\n",
    "\n",
    "\\begin{align}\n",
    "-\\frac{\\partial^2 u}{\\partial x^2} + \\sigma^2u = 4x\\sin(4x)-\\cos(4x)\\\\\n",
    "u(0) = u(\\pi) = 0\n",
    "\\end{align}\n",
    "\n",
    "with $\\sigma = 4$, which has the following analytical solution\n",
    "\n",
    "\\begin{equation}\n",
    "u(x) = \\frac{1}{8}x\\sin(4x)\n",
    "\\end{equation}\n",
    "\n",
    "We know that the sine function is zero at $0$ and $\\pi$. Let's use the discrete sine transform then!\n",
    "The way it's implemented in scipy, the type I DST is (see [scipy.fftpack.dst](https://docs.scipy.org/doc/scipy-0.15.1/reference/generated/scipy.fftpack.dst.html#scipy.fftpack.dst))\n",
    "\n",
    "\\begin{equation}\n",
    "F_k = 2\\sum_{n=0}^{N-1} f_n\\sin\\left(\\frac{\\pi(k+1)(n+1)}{N+1}\\right)\n",
    "\\end{equation}\n",
    "\n",
    "and its inverse is\n",
    "\n",
    "\\begin{equation}\n",
    "f_n = \\frac{1}{N-1}\\sum_{k=0}^{N-1} F_k\\sin\\left(\\frac{\\pi(k+1)(n+1)}{N+1}\\right)\n",
    "\\end{equation}\n",
    "\n",
    "Note that the sine transform is equivalent to a $2N$ DFT, which is odd around the middle point (see the [Wikipedia article](https://en.wikipedia.org/wiki/Discrete_sine_transform) on this). Then, we could compute it in $O(N\\log N)$ time with an FFT.\n",
    "\n",
    "In this example problem, there is an extra $\\sigma^2u$ which we are not used to with Poisson. This equation is known as the Helmhotlz equation, which is very useful to model scattering problems. The same derivation as before considering now Helmholtz and the sine transform, leads to the following relation between $U_k$ and $F_k$:\n",
    "\n",
    "\\begin{equation}\n",
    "U_k = \\frac{h^2F_k}{2\\left(1-\\cos\\left(\\frac{\\pi(k+1)}{N+1}\\right)\\right)+\\sigma^2h^2}\n",
    "\\end{equation}"
   ]
  },
  {
   "cell_type": "code",
   "execution_count": 41,
   "metadata": {
    "collapsed": false
   },
   "outputs": [
    {
     "data": {
      "text/plain": [
       "<matplotlib.legend.Legend at 0x7f61b18afc50>"
      ]
     },
     "execution_count": 41,
     "metadata": {},
     "output_type": "execute_result"
    },
    {
     "data": {
      "image/png": "[encoded data removed]",
      "text/plain": [
       "<matplotlib.figure.Figure at 0x7f61b2b96b50>"
      ]
     },
     "metadata": {},
     "output_type": "display_data"
    }
   ],
   "source": [
    "\n",
    "N = 32\n",
    "\n",
    "xmin = 0.#-1.\n",
    "xmax = numpy.pi#1.\n",
    "\n",
    "h = (xmax-xmin)/(N)\n",
    "\n",
    "x = numpy.linspace(xmin, xmax, N, endpoint=False)\n",
    "\n",
    "#f = numpy.exp(4*x)\n",
    "f = 4*x*numpy.sin(4*x) - numpy.cos(4*x)\n",
    "\n",
    "#F_k = numpy.fft.fft(f)\n",
    "F_k = scipy.fftpack.dst(f, type=1)\n",
    "\n",
    "k = numpy.arange(N)\n",
    "\n",
    "#U_k = h**2*F_k/(2*(numpy.cos(2*numpy.pi*k/N)-1))\n",
    "U_k = h**2*F_k/(2*(1-numpy.cos(numpy.pi*(k+1)/(N+1)))+4**2*h**2) \n",
    "\n",
    "#u = numpy.fft.ifft(U_k)\n",
    "u = scipy.fftpack.idst(U_k, type=1)*1./(2*(N+1))\n",
    "\n",
    "#u_exact = 1./16*(numpy.exp(4*x) - numpy.sinh(4)*x - numpy.cosh(4))\n",
    "u_exact = 4.*x*numpy.sin(x)\n",
    "\n",
    "#test = scipy.fftpack.idst(U_k, type=1)*1./(2*(N+1))\n",
    "#pyplot.plot(x, f, c='k', ls='-', label='f')\n",
    "#pyplot.plot(x, test, c='k', ls=':', label='test')\n",
    "#pyplot.legend(loc='best')\n",
    "\n",
    "pyplot.plot(x, u, c='k', ls='-', label='numerical')\n",
    "pyplot.plot(x, u_exact, c='k', ls=':', label='exact')\n",
    "pyplot.legend(loc='best')"
   ]
  },
  {
   "cell_type": "markdown",
   "metadata": {
    "collapsed": true
   },
   "source": [
    "Something is wrong here, need to debug\n",
    "\n",
    "## Spectral method\n",
    "\n",
    "We saw previously that we can approximate derivatives using an inverse DFT representation of the function, which had spectral accuracy. Let's use that same principle to solve the first problem above\n",
    "\n",
    "\\begin{align}\n",
    "\\frac{\\partial^2 u}{\\partial x^2} &= f(x) = \\frac{4 (6 \\cos(2x) + \\cos(4 x) - 3)}{(\\cos(2 x) - 3)^3}\\\\\n",
    "u(0) &= u(2\\pi) = 1\n",
    "\\end{align}\n",
    "\n",
    "Considering that the inverse DFT of $u$ is\n",
    "\n",
    "\\begin{equation}\n",
    "u_n = \\sum_{k=0}^{N-1} U_k e^{\\frac{i2\\pi kn}{N}}\n",
    "\\end{equation}\n",
    "\n",
    "we can represent its second derivative as\n",
    "\n",
    "\\begin{equation}\n",
    "u^{\\prime\\prime}_n = \\sum_{k=0}^{N-1} -k^2U_k e^{\\frac{i2\\pi kn}{N}}\n",
    "\\end{equation}\n",
    "\n",
    "Then, we can rewrite the above PDE as\n",
    "\n",
    "\\begin{equation}\n",
    "\\sum_{k=0}^{N-1} -k^2U_k e^{\\frac{i2\\pi kn}{N}} = \\sum_{k=0}^{N-1} F_k e^{\\frac{i2\\pi kn}{N}}\n",
    "\\end{equation}\n",
    "\n",
    "and, for each $k$\n",
    "\n",
    "\\begin{align}\n",
    "-k^2U_k &= F_k\n",
    "\\Rightarrow U_k = -\\frac{F_k}{k^2}\n",
    "\\end{align}\n",
    "\n",
    "This leads to a 3-step algorithm\n",
    "\n",
    "   1. Compute the DFT of $f(x)$, $F_k$.\n",
    "   2. Divide by $-k^2$ to obtain $U_k$.\n",
    "   3. Compute $u$ with the inverse DFT.\n",
    "\n",
    "As before, this gives us the solution up to a constant or linear function. To accomplish with the boundary conditions we need to add a function with zero second derivative.\n",
    "\n",
    "Let's try this out!\n"
   ]
  },
  {
   "cell_type": "code",
   "execution_count": 42,
   "metadata": {
    "collapsed": false
   },
   "outputs": [
    {
     "data": {
      "text/plain": [
       "<matplotlib.legend.Legend at 0x7f61b1c8d290>"
      ]
     },
     "execution_count": 42,
     "metadata": {},
     "output_type": "execute_result"
    },
    {
     "data": {
      "image/png": "[encoded data removed]",
      "text/plain": [
       "<matplotlib.figure.Figure at 0x7f61b1bc65d0>"
      ]
     },
     "metadata": {},
     "output_type": "display_data"
    }
   ],
   "source": [
    "def solve_poisson_spectral(x, N, RHS_function):\n",
    "    \n",
    "    f = RHS_function(x)\n",
    "    \n",
    "    F_k = numpy.fft.rfft(f)\n",
    "    \n",
    "    k = numpy.arange(N/2+1)\n",
    "    \n",
    "    U_k = numpy.zeros(N/2+1, dtype=complex)\n",
    "    U_k[1:] = -F_k[1:]/k[1:]**2\n",
    "    \n",
    "    n = numpy.arange(N)\n",
    "    F_0_2prime = numpy.sum(-(2*pi*n/N)**2*f)\n",
    "    \n",
    "    U_k[0] = -F_0_2prime/2.\n",
    "    \n",
    "    u = numpy.fft.irfft(U_k) # u up to an additive constant or linear function\n",
    "\n",
    "    f_add = 1-u[0]\n",
    "    u += f_add\n",
    "    \n",
    "    return u\n",
    "\n",
    "N = 32\n",
    "\n",
    "xmin = 0.\n",
    "xmax = 2*pi\n",
    "\n",
    "x = numpy.linspace(xmin, xmax, N, endpoint=False)\n",
    "\n",
    "u = solve_poisson_spectral(x, N, function_0)\n",
    "\n",
    "u_exact = function_0_exact(x)\n",
    "\n",
    "pyplot.plot(x, u, c='k', ls='-', label='numerical')\n",
    "pyplot.plot(x, u_exact, c='k', ls=':', label='exact')\n",
    "pyplot.legend(loc='best')"
   ]
  },
  {
   "cell_type": "markdown",
   "metadata": {},
   "source": [
    "Looks good! Let's try to see the convergence"
   ]
  },
  {
   "cell_type": "code",
   "execution_count": 43,
   "metadata": {
    "collapsed": false
   },
   "outputs": [
    {
     "data": {
      "image/png": "[encoded data removed]",
      "text/plain": [
       "<matplotlib.figure.Figure at 0x7f61b1b0c450>"
      ]
     },
     "metadata": {},
     "output_type": "display_data"
    }
   ],
   "source": [
    "def convergence_test_spectral(N_array, function, function_exact, xmin, xmax):\n",
    "\n",
    "    error = numpy.array([])\n",
    "    for N in N_array:\n",
    "     \n",
    "        x = numpy.linspace(xmin, xmax, N, endpoint=False)\n",
    "        \n",
    "        u = solve_poisson_spectral(x, N, function)\n",
    "        \n",
    "        u_exact = function_exact(x)\n",
    "        \n",
    "        e = L2_error(u, u_exact)\n",
    "    \n",
    "        error = numpy.append(error,e)    \n",
    "\n",
    "    pyplot.loglog(N_array, error, ls='', marker='+', c='k', ms=10)\n",
    "\n",
    "xmin = 0.\n",
    "xmax = 2*pi\n",
    "\n",
    "N_array = numpy.array([8, 16, 32, 64, 128, 256, 512])\n",
    "convergence_test_spectral(N_array, function_0, function_0_exact, xmin, xmax)"
   ]
  },
  {
   "cell_type": "markdown",
   "metadata": {},
   "source": [
    "Spectral convergence!\n",
    "\n",
    "### What about Chebyshev?\n",
    "\n",
    "Let's now solve the following BVP\n",
    "\n",
    "\\begin{align}\n",
    "\\frac{\\partial^2 u}{\\partial x^2} &= e^{4x}\\\\\n",
    "u(-1) &= u(1) = 0\n",
    "\\end{align}\n",
    "\n",
    "which has the exact solution\n",
    "\n",
    "\\begin{align}\n",
    "u=\\frac{1}{16}\\left(e^{4x} -\\sinh(4)x-\\cosh(4)\\right)\n",
    "\\end{align}\n",
    "\n",
    "As you can see, this is not a periodic function (which brings in the Runge phenomenon), and the boundary conditions say that the function is 0 at -1 and 1. There is something that can help us with both of those issues: the Chebyshev transform. The Chebyshev transform places points in such a way that oscillations are diminished, and the interpolant $(p(x) = T_n(\\cos(\\theta)) = \\cos(n\\theta))$ is $0$ at $\\pm 1$, and the BCs are automatically satisfied. Moreover, we already learned how to approximate a derivative with Chebyshev transform using FFTs! \n",
    "\n",
    "We will use bits and pieces of that Chebyshev differentiation next. First, to perform the Chebyshev transformation and then its inverse"
   ]
  },
  {
   "cell_type": "code",
   "execution_count": 44,
   "metadata": {
    "collapsed": true
   },
   "outputs": [],
   "source": [
    "def cheb_trans_fft(function, x):\n",
    "    \n",
    "    N = len(x)\n",
    "    f = function(x)\n",
    "    f = numpy.ravel(f)\n",
    "    ii = numpy.arange(N-1)\n",
    "    K =  numpy.zeros(2*(N-1))\n",
    "    K[0:N-1] = ii[:]\n",
    "    K[N:2*(N-1)] = -numpy.flipud(ii[1:])\n",
    "    y = numpy.append(f, numpy.flipud(f[1:N-1]))\n",
    "    y_t = numpy.real(numpy.fft.fft(y))\n",
    "    \n",
    "    return y_t\n",
    "\n",
    "def inverse_cheb_trans_fft(ddy_t, dy_t, x):\n",
    "    \"\"\"\n",
    "    Computes the inverse cheb fft for a second derivative\n",
    "    \"\"\"\n",
    "    N = len(x)\n",
    "    ii = numpy.arange(N-1)\n",
    "    w = numpy.zeros(N)\n",
    "    w[1:N-1] = -ddy_t[1:N-1]/numpy.sqrt(1-x[1:N-1]**2)\n",
    "    w[0] = numpy.sum(ii**2*dy_t[ii])/(N-1) + 0.5*(N-1)*dy_t[N-1]\n",
    "    w[-1] = numpy.sum((-1)**(ii+1)*ii**2*dy_t[ii])/(N-1) + 0.5*(-1)**(N)*(N-1)*dy_t[N-1]\n",
    "    \n",
    "    return w"
   ]
  },
  {
   "cell_type": "markdown",
   "metadata": {},
   "source": [
    "See that both of these functions together are the `chebfft_diff` from last class."
   ]
  },
  {
   "cell_type": "code",
   "execution_count": 45,
   "metadata": {
    "collapsed": true
   },
   "outputs": [],
   "source": [
    "N = 32\n",
    "\n",
    "xmin = -1.\n",
    "xmax = 1.\n",
    "\n",
    "x = numpy.linspace(xmin, xmax, N, endpoint=False)"
   ]
  }
 ],
 "metadata": {
  "kernelspec": {
   "display_name": "Python 2",
   "language": "python",
   "name": "python2"
  },
  "language_info": {
   "codemirror_mode": {
    "name": "ipython",
    "version": 2
   },
   "file_extension": ".py",
   "mimetype": "text/x-python",
   "name": "python",
   "nbconvert_exporter": "python",
   "pygments_lexer": "ipython2",
   "version": "2.7.6"
  }
 },
 "nbformat": 4,
 "nbformat_minor": 0
}
