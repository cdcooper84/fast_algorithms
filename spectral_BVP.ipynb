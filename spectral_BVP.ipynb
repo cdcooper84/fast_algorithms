{
 "cells": [
  {
   "cell_type": "markdown",
   "metadata": {},
   "source": [
    "# Boundary value problems with FFT\n",
    "\n",
    "In class, we saw a couple of methods to approximate BVPs using FFTs. Let's try them out now. Our model problem will be the Poisson equation\n",
    "\n",
    "\\begin{align}\n",
    "\\frac{\\partial^2 u}{\\partial x^2} = e^{4x}\\\\\n",
    "u(-1) = u(1) = 0\n",
    "\\end{align}\n",
    "\n",
    "which corresponds to *Program 13* of Trefethen's *Spectral Methods in Matlab*. The analytical solution to this problem is\n",
    "\n",
    "\\begin{equation}\n",
    "u(x) = \\frac{1}{16}\\left(e^{4x} - \\sinh(4)\\cdot x - \\cosh(4)\\right)\n",
    "\\end{equation}\n",
    "\n",
    "## Finite difference and FFTs\n",
    "\n",
    "Discretizing the above equation with finite differences for $N$ nodes, we get\n",
    "\n",
    "\\begin{equation}\n",
    "\\frac{u_{n-1}-2u_n+u_{n+1}}{h^2} = e^{4x_n} = f(x)\n",
    "\\end{equation}\n",
    "\n",
    "Representing $u_n$ in a Fourier expansion\n",
    "\n",
    "\\begin{equation}\n",
    "u_n = \\sum_{k=-\\frac{N}{2}+1}^\\frac{N}{2} U_k e^\\frac{i2\\pi kn}{N}\n",
    "\\end{equation}\n",
    "\n",
    "we can rewrite $u_{n+1}$ and $u_{n-1}$ as\n",
    "\n",
    "\\begin{align}\n",
    "u_{n+1} = \\sum_{k=-\\frac{N}{2}+1}^\\frac{N}{2} U_k e^\\frac{i2\\pi kn}{N} e^\\frac{i2\\pi k}{N}\\\\\n",
    "u_{n-1} = \\sum_{k=-\\frac{N}{2}+1}^\\frac{N}{2} U_k e^\\frac{i2\\pi kn}{N} e^{-\\frac{i2\\pi k}{N}}.\n",
    "\\end{align}\n",
    "\n",
    "and also,\n",
    "\n",
    "\\begin{equation}\n",
    "f_n = \\sum_{k=-\\frac{N}{2}+1}^\\frac{N}{2} F_k e^\\frac{i2\\pi kn}{N}\n",
    "\\end{equation}\n",
    "\n",
    "Replacing these expressions in the discretized equation and factorizing, we get\n",
    "\n",
    "\\begin{equation}\n",
    "\\sum_{k=-\\frac{N}{2}+1}^\\frac{N}{2}\\left[ U_k e^\\frac{i2\\pi kn}{N} \\left( e^\\frac{i2\\pi k}{N} - 2 + e^{-\\frac{i2\\pi k}{N}} \\right) \\right] = h^2 \\sum_{k=-\\frac{N}{2}+1}^\\frac{N}{2} F_k e^\\frac{i2\\pi kn}{N}\n",
    "\\end{equation}\n",
    "\n",
    "But\n",
    "\n",
    "\\begin{equation}\n",
    " e^\\frac{i2\\pi k}{N} + e^{-\\frac{i2\\pi k}{N}} = 2\\cos\\left(\\frac{2\\pi k}{N}\\right)\n",
    "\\end{equation}\n",
    "\n",
    "which makes the previous expression \n",
    "\n",
    "\\begin{equation}\n",
    "\\sum_{k=-\\frac{N}{2}+1}^\\frac{N}{2}\\left[ U_k e^\\frac{i2\\pi kn}{N} 2\\left( \\cos\\left(\\frac{2\\pi k}{N}\\right) - 1 \\right) \\right] = h^2 \\sum_{k=-\\frac{N}{2}+1}^\\frac{N}{2} F_k e^\\frac{i2\\pi kn}{N}\n",
    "\\end{equation}\n",
    "\n",
    "Then, for each $k$\n",
    "\n",
    "\\begin{align}\n",
    "2U_k & \\left( \\cos\\left(\\frac{2\\pi k}{N}\\right) - 1 \\right) = h^2 F_k\\\\\n",
    "\\Rightarrow U_k &= \\frac{h^2 F_k}{2\\left( \\cos\\left(\\frac{2\\pi k}{N}\\right) - 1 \\right)}\n",
    "\\end{align}\n",
    "\n",
    "and we can obtain $u(x)$ with an inverse FFT. Let's try this out!"
   ]
  },
  {
   "cell_type": "code",
   "execution_count": 61,
   "metadata": {
    "collapsed": false
   },
   "outputs": [
    {
     "data": {
      "text/plain": [
       "<matplotlib.legend.Legend at 0x7f7a3955c490>"
      ]
     },
     "execution_count": 61,
     "metadata": {},
     "output_type": "execute_result"
    },
    {
     "data": {
      "image/png": "[encoded data removed]",
      "text/plain": [
       "<matplotlib.figure.Figure at 0x7f7a395db510>"
      ]
     },
     "metadata": {},
     "output_type": "display_data"
    }
   ],
   "source": [
    "import numpy\n",
    "import numpy.fft\n",
    "import scipy.fftpack\n",
    "from matplotlib import pyplot\n",
    "%matplotlib inline\n",
    "\n",
    "N = 32\n",
    "\n",
    "xmin = 0.#-1.\n",
    "xmax = numpy.pi#1.\n",
    "\n",
    "h = (xmax-xmin)/(N)\n",
    "\n",
    "x = numpy.linspace(xmin, xmax, N, endpoint=False)\n",
    "\n",
    "#f = numpy.exp(4*x)\n",
    "f = 4*x*numpy.sin(4*x) - numpy.cos(4*x)\n",
    "\n",
    "#F_k = numpy.fft.fft(f)\n",
    "F_k = scipy.fftpack.dst(f, type=1)\n",
    "\n",
    "k = numpy.arange(N)\n",
    "\n",
    "#U_k = h**2*F_k/(2*(numpy.cos(2*numpy.pi*k/N)-1))\n",
    "U_k = h**2*F_k/(2*(1-numpy.cos(numpy.pi*(k+1)/(N+1)))+4**2*h**2)\n",
    "\n",
    "#u = numpy.fft.ifft(U_k)\n",
    "u = scipy.fftpack.idst(U_k, type=1)#*1./(2*(N+1))\n",
    "\n",
    "#u_exact = 1./16*(numpy.exp(4*x) - numpy.sinh(4)*x - numpy.cosh(4))\n",
    "u_exact = 4.*x*numpy.sin(x)\n",
    "\n",
    "#test = scipy.fftpack.idst(U_k, type=1)*1./(2*(N+1))\n",
    "#pyplot.plot(x, f, c='k', ls='-', label='f')\n",
    "#pyplot.plot(x, test, c='k', ls=':', label='test')\n",
    "#pyplot.legend(loc='best')\n",
    "\n",
    "pyplot.plot(x, u, c='k', ls='-', label='numerical')\n",
    "pyplot.plot(x, u_exact, c='k', ls=':', label='exact')\n",
    "pyplot.legend(loc='best')"
   ]
  },
  {
   "cell_type": "code",
   "execution_count": null,
   "metadata": {
    "collapsed": true
   },
   "outputs": [],
   "source": []
  }
 ],
 "metadata": {
  "kernelspec": {
   "display_name": "Python 2",
   "language": "python",
   "name": "python2"
  },
  "language_info": {
   "codemirror_mode": {
    "name": "ipython",
    "version": 2
   },
   "file_extension": ".py",
   "mimetype": "text/x-python",
   "name": "python",
   "nbconvert_exporter": "python",
   "pygments_lexer": "ipython2",
   "version": "2.7.6"
  }
 },
 "nbformat": 4,
 "nbformat_minor": 0
}
