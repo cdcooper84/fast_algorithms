{
 "cells": [
  {
   "cell_type": "markdown",
   "metadata": {},
   "source": [
    "# Hierarchical matrices\n",
    "\n",
    "This notebook is an introduction to hierarchical matrices, following the examples from Rjasanow and Steinbach's \"The fast solution of boundary integral equations\".\n",
    "\n",
    "## Low rank approximation of a matrix\n",
    "\n",
    "Say we have the the 2D square $[0,1]\\times[0,1]$, discretized in $N\\times N$ nodes, and form a matrix with kernel\n",
    "\n",
    "\\begin{equation}\n",
    "K(x,y) = \\frac{1}{\\alpha + x + y}\n",
    "\\end{equation}\n",
    "\n",
    "where $\\alpha$ avoids the singularity."
   ]
  },
  {
   "cell_type": "code",
   "execution_count": 207,
   "metadata": {
    "collapsed": false
   },
   "outputs": [
    {
     "data": {
      "text/plain": [
       "<matplotlib.colorbar.Colorbar at 0x118d79d10>"
      ]
     },
     "execution_count": 207,
     "metadata": {},
     "output_type": "execute_result"
    },
    {
     "data": {
      "image/png": "[encoded data removed]",
      "text/plain": [
       "<matplotlib.figure.Figure at 0x118d72590>"
      ]
     },
     "metadata": {},
     "output_type": "display_data"
    }
   ],
   "source": [
    "import numpy\n",
    "from matplotlib import pyplot\n",
    "%matplotlib inline\n",
    "\n",
    "def generate_K(xmin, xmax, ymin, ymax, N, alpha, kernel):\n",
    "    x = numpy.linspace(xmin, xmax, N)\n",
    "    y = numpy.linspace(ymin, ymax, N)\n",
    "\n",
    "    X, Y = numpy.meshgrid(x,y)\n",
    "\n",
    "    K = kernel(X,Y,alpha) \n",
    "\n",
    "    return K\n",
    "\n",
    "def kernel_1(X,Y,alpha):\n",
    "    return 1/(alpha+X+Y)\n",
    "\n",
    "xmin = 0.\n",
    "xmax = 1.\n",
    "ymin = 0.\n",
    "ymax = 1.\n",
    "\n",
    "alpha = 1e-6\n",
    "\n",
    "N = 32\n",
    "\n",
    "K_32 = generate_K(xmin, xmax, ymin, ymax, N, alpha, kernel_1)\n",
    "\n",
    "pyplot.matshow(numpy.log(K_32))\n",
    "pyplot.colorbar()"
   ]
  },
  {
   "cell_type": "markdown",
   "metadata": {},
   "source": [
    "As we could suspect, the matrix `K` has a peak in the $(0,0)$ corner which would be singular if $\\alpha=0$.\n",
    "\n",
    "Remember the singular value decomposition? It decomposes a matrix $A$ into \n",
    "\n",
    "\\begin{equation}\n",
    "A = U\\Sigma V^T\n",
    "\\end{equation}\n",
    "\n",
    "where $U$ and $V$ are matrices whose columns are the right and left singular vectors, respectively, and $\\Sigma$ is a diagonal matrix with the singular values. See the [Wikipedia](https://en.wikipedia.org/wiki/Singular_value_decomposition) entry for more details.\n",
    "\n",
    "Let's study the singular values of matrix `K`, using the [`numpy.linalg.svd`](https://docs.scipy.org/doc/numpy/reference/generated/numpy.linalg.svd.html) function"
   ]
  },
  {
   "cell_type": "code",
   "execution_count": 208,
   "metadata": {
    "collapsed": false
   },
   "outputs": [
    {
     "data": {
      "text/plain": [
       "[<matplotlib.lines.Line2D at 0x11107f9d0>]"
      ]
     },
     "execution_count": 208,
     "metadata": {},
     "output_type": "execute_result"
    },
    {
     "data": {
      "image/png": "[encoded data removed]",
      "text/plain": [
       "<matplotlib.figure.Figure at 0x118d72250>"
      ]
     },
     "metadata": {},
     "output_type": "display_data"
    }
   ],
   "source": [
    "U_32,s_32,V_32 = numpy.linalg.svd(K_32)\n",
    "pyplot.semilogy(s_32)"
   ]
  },
  {
   "cell_type": "markdown",
   "metadata": {},
   "source": [
    "We can see that the singular values quickly drop to near 0. This means that the $32\\times 32$ `K` matrix does not really need the full $32$-long rank to be well represented, but perhaps using only $13$ singular values it can be well represented.  \n",
    "\n",
    "What happens with higher $N$? Let's try $N=1024$"
   ]
  },
  {
   "cell_type": "code",
   "execution_count": 209,
   "metadata": {
    "collapsed": false
   },
   "outputs": [
    {
     "data": {
      "text/plain": [
       "[<matplotlib.lines.Line2D at 0x1111d8050>]"
      ]
     },
     "execution_count": 209,
     "metadata": {},
     "output_type": "execute_result"
    },
    {
     "data": {
      "image/png": "[encoded data removed]",
      "text/plain": [
       "<matplotlib.figure.Figure at 0x118d72b50>"
      ]
     },
     "metadata": {},
     "output_type": "display_data"
    }
   ],
   "source": [
    "N = 1024\n",
    "\n",
    "K_1024 = generate_K(xmin, xmax, ymin, ymax, N, alpha, kernel_1)\n",
    "U_1024,s_1024,V_1024 = numpy.linalg.svd(K_1024)\n",
    "pyplot.semilogy(s_1024)"
   ]
  },
  {
   "cell_type": "markdown",
   "metadata": {},
   "source": [
    "The effect is even worse! We (relatively) need even less singular values to have a good approximation of $K$. \n",
    "\n",
    "Using this idea, we can write a *low rank* approximation of `K` by using only the $r$ biggest singular values. Let's use the first 13 singular values to reconstruct a low rank approximation of `K_32`: "
   ]
  },
  {
   "cell_type": "code",
   "execution_count": 210,
   "metadata": {
    "collapsed": false
   },
   "outputs": [
    {
     "name": "stdout",
     "output_type": "stream",
     "text": [
      "3.56973264772e-16\n"
     ]
    }
   ],
   "source": [
    "def Frobenius_rel_norm(A, A_approx):\n",
    "    difference = numpy.sqrt(numpy.sum((A-A_approx)**2))\n",
    "    relative = numpy.sqrt(numpy.sum((A)**2))\n",
    "    \n",
    "    return difference/relative\n",
    "    \n",
    "def low_rank_approx(A, cutoff):\n",
    "    \n",
    "    N = len(A)\n",
    "    \n",
    "    U,s,V = numpy.linalg.svd(A)\n",
    "    \n",
    "    Sigma_approx = numpy.zeros((N,N))\n",
    "    Sigma_approx[numpy.arange(cutoff),numpy.arange(cutoff)] = s[:cutoff]\n",
    "\n",
    "    A_approx = numpy.dot(numpy.dot(U, Sigma_approx), V) # V is already transposed\n",
    "    \n",
    "    return A_approx\n",
    "\n",
    "cutoff = 13\n",
    "K_approx = low_rank_approx(K_32, cutoff)\n",
    "error = Frobenius_rel_norm(K_32, K_approx)\n",
    "print error"
   ]
  },
  {
   "cell_type": "markdown",
   "metadata": {},
   "source": [
    "That is a very good approximation! Up to machine precision! This means that the actual rank of the matrix is not equal to the number of columns, but actually much less.\n",
    "\n",
    "One question is: how big of a rank do we need for a given error? Let's code that up."
   ]
  },
  {
   "cell_type": "code",
   "execution_count": 211,
   "metadata": {
    "collapsed": false
   },
   "outputs": [],
   "source": [
    "def low_rank_approx_error(A, epsilon):\n",
    "    \n",
    "    N = len(A)\n",
    "    \n",
    "    U,s,V = numpy.linalg.svd(A)\n",
    "    \n",
    "    Sigma_approx = numpy.zeros((N,N))\n",
    "    \n",
    "    error = 1.\n",
    "    rank = 1\n",
    "    \n",
    "    while error>epsilon:\n",
    "    \n",
    "        Sigma_approx[numpy.arange(rank),numpy.arange(rank)] = s[:rank]\n",
    "        A_approx = numpy.dot(numpy.dot(U, Sigma_approx), V) # V is already transposed\n",
    "        error = Frobenius_rel_norm(A, A_approx)\n",
    "        \n",
    "        rank += 1\n",
    "        \n",
    "    return A_approx, rank"
   ]
  },
  {
   "cell_type": "markdown",
   "metadata": {},
   "source": [
    "Let's aim at $\\epsilon = 10^{-6}$"
   ]
  },
  {
   "cell_type": "code",
   "execution_count": 212,
   "metadata": {
    "collapsed": false
   },
   "outputs": [
    {
     "name": "stdout",
     "output_type": "stream",
     "text": [
      "5\n"
     ]
    }
   ],
   "source": [
    "epsilon = 1e-6\n",
    "K_approx, rank = low_rank_approx_error(K_32, epsilon)\n",
    "print rank"
   ]
  },
  {
   "cell_type": "markdown",
   "metadata": {},
   "source": [
    "Only 4! \n",
    "\n",
    "Unfortunately, a SVD takes $O(N^3)$ operations, which defeats the point of having a *fast* method, but we'll illustrate the main ideas with it, and discuss a more efficient way to obtain low-rank approximations later.\n",
    "\n",
    "## Hierarchical block decomposition of a matrix\n",
    "\n",
    "Perhaps the example from before was way too easy. Let's try out a different kernel:\n",
    "\n",
    "\\begin{equation}\n",
    "K(x,y) = \\frac{1}{(x-y)^2+\\alpha}\n",
    "\\end{equation}\n",
    "\n",
    "which should give a diagonally dominant matrix"
   ]
  },
  {
   "cell_type": "code",
   "execution_count": 213,
   "metadata": {
    "collapsed": false
   },
   "outputs": [
    {
     "data": {
      "text/plain": [
       "<matplotlib.colorbar.Colorbar at 0x1185b5e90>"
      ]
     },
     "execution_count": 213,
     "metadata": {},
     "output_type": "execute_result"
    },
    {
     "data": {
      "image/png": "[encoded data removed]",
      "text/plain": [
       "<matplotlib.figure.Figure at 0x110e586d0>"
      ]
     },
     "metadata": {},
     "output_type": "display_data"
    }
   ],
   "source": [
    "def kernel_2(X,Y,alpha):\n",
    "    return 1/(alpha+(X-Y)**2)\n",
    "\n",
    "N = 256\n",
    "alpha = 1e-3\n",
    "K = generate_K(xmin, xmax, ymin, ymax, N, alpha, kernel_2)\n",
    "\n",
    "pyplot.matshow(numpy.log(K))\n",
    "pyplot.colorbar()"
   ]
  },
  {
   "cell_type": "markdown",
   "metadata": {},
   "source": [
    "Let's look at the singular values"
   ]
  },
  {
   "cell_type": "code",
   "execution_count": 214,
   "metadata": {
    "collapsed": false
   },
   "outputs": [
    {
     "data": {
      "text/plain": [
       "[<matplotlib.lines.Line2D at 0x110ebde10>]"
      ]
     },
     "execution_count": 214,
     "metadata": {},
     "output_type": "execute_result"
    },
    {
     "data": {
      "image/png": "[encoded data removed]",
      "text/plain": [
       "<matplotlib.figure.Figure at 0x118d72210>"
      ]
     },
     "metadata": {},
     "output_type": "display_data"
    }
   ],
   "source": [
    "U,s,V = numpy.linalg.svd(K)\n",
    "pyplot.semilogy(s)"
   ]
  },
  {
   "cell_type": "markdown",
   "metadata": {},
   "source": [
    "These decay a lot slower than the previous case! \n",
    "\n",
    "If we wanted an approximation which is accurate up to $\\epsilon=10^{-6}$, what would be the required rank?"
   ]
  },
  {
   "cell_type": "code",
   "execution_count": 215,
   "metadata": {
    "collapsed": false
   },
   "outputs": [
    {
     "name": "stdout",
     "output_type": "stream",
     "text": [
      "143\n"
     ]
    }
   ],
   "source": [
    "K_approx, rank = low_rank_approx_error(K, epsilon)\n",
    "print rank"
   ]
  },
  {
   "cell_type": "markdown",
   "metadata": {},
   "source": [
    "Much more than the $5$ we saw in the previous case!\n",
    "\n",
    "From inspecting the matrix, we can see that most of the information is concentrated on the diagonal. If we subdivide the matrix into four sub-matrices as\n",
    "\n",
    "\\begin{equation}\n",
    "K = \\left(\n",
    "\\begin{array}{c c}\n",
    "K_{11} & K_{12}\\\\\n",
    "K_{21} & K_{22}\n",
    "\\end{array}\n",
    "\\right)\n",
    "\\end{equation}\n",
    "\n",
    "The most important information would be concentrated on the $K_{11}$ and $K_{22}$ blocks. Let's look at the singular values of each block individually"
   ]
  },
  {
   "cell_type": "code",
   "execution_count": 216,
   "metadata": {
    "collapsed": false
   },
   "outputs": [
    {
     "data": {
      "text/plain": [
       "<matplotlib.legend.Legend at 0x119f52710>"
      ]
     },
     "execution_count": 216,
     "metadata": {},
     "output_type": "execute_result"
    },
    {
     "data": {
      "image/png": "[encoded data removed]",
      "text/plain": [
       "<matplotlib.figure.Figure at 0x118d72610>"
      ]
     },
     "metadata": {},
     "output_type": "display_data"
    }
   ],
   "source": [
    "N = len(K)\n",
    "K11 = K[:N/2,:N/2]\n",
    "K12 = K[:N/2,N/2:]\n",
    "K21 = K[N/2:,:N/2]\n",
    "K22 = K[N/2:,N/2:]\n",
    "\n",
    "U11,s11,V11 = numpy.linalg.svd(K11)\n",
    "U12,s12,V12 = numpy.linalg.svd(K12)\n",
    "U21,s21,V21 = numpy.linalg.svd(K21)\n",
    "U22,s22,V22 = numpy.linalg.svd(K22)\n",
    "\n",
    "pyplot.semilogy(s11, ls=':', label='s11', c='k')\n",
    "pyplot.semilogy(s12, ls='-', label='s12', c='k')\n",
    "pyplot.semilogy(s21, ls='', marker='+', label='s21', c='k')\n",
    "pyplot.semilogy(s22, ls='--', label='s22', c='k')\n",
    "pyplot.legend()"
   ]
  },
  {
   "cell_type": "markdown",
   "metadata": {},
   "source": [
    "That is interesting! The singular values of the off-diagonal blocks decay pretty rapidly, whereas the diagonal blocks have a similar behavior compared to the original matrix (we kind of expected this, right?).\n",
    "\n",
    "This would mean that the off-diagonal block matrices have low-rank approximations which have a *very* low rank. Let's test that for $\\epsilon=10^{-6}$"
   ]
  },
  {
   "cell_type": "code",
   "execution_count": 217,
   "metadata": {
    "collapsed": false
   },
   "outputs": [
    {
     "name": "stdout",
     "output_type": "stream",
     "text": [
      "73 10 10 73\n"
     ]
    }
   ],
   "source": [
    "K11_approx, rank11 = low_rank_approx_error(K11, epsilon)\n",
    "K12_approx, rank12 = low_rank_approx_error(K12, epsilon)\n",
    "K21_approx, rank21 = low_rank_approx_error(K21, epsilon)\n",
    "K22_approx, rank22 = low_rank_approx_error(K22, epsilon)\n",
    "\n",
    "print rank11, rank12, rank21, rank22"
   ]
  },
  {
   "cell_type": "markdown",
   "metadata": {},
   "source": [
    "I'm good with only rank 10 for the off diagonal submatrices. Let's subdivide the diagonal matrices further and look at their rank"
   ]
  },
  {
   "cell_type": "code",
   "execution_count": 218,
   "metadata": {
    "collapsed": false
   },
   "outputs": [
    {
     "name": "stdout",
     "output_type": "stream",
     "text": [
      "Submatrix 11\n",
      "38 9 9 38\n",
      "Submatrix 22\n",
      "38 9 9 38\n"
     ]
    }
   ],
   "source": [
    "N = len(K11)\n",
    "K11_11 = K11[:N/2,:N/2]\n",
    "K11_12 = K11[:N/2,N/2:]\n",
    "K11_21 = K11[N/2:,:N/2]\n",
    "K11_22 = K11[N/2:,N/2:]\n",
    "\n",
    "K22_11 = K22[:N/2,:N/2]\n",
    "K22_12 = K22[:N/2,N/2:]\n",
    "K22_21 = K22[N/2:,:N/2]\n",
    "K22_22 = K22[N/2:,N/2:]\n",
    "\n",
    "K11_11_approx, rank11_11 = low_rank_approx_error(K11_11, epsilon)\n",
    "K11_12_approx, rank11_12 = low_rank_approx_error(K11_12, epsilon)\n",
    "K11_21_approx, rank11_21 = low_rank_approx_error(K11_21, epsilon)\n",
    "K11_22_approx, rank11_22 = low_rank_approx_error(K11_22, epsilon)\n",
    "\n",
    "K22_11_approx, rank22_11 = low_rank_approx_error(K22_11, epsilon)\n",
    "K22_12_approx, rank22_12 = low_rank_approx_error(K22_12, epsilon)\n",
    "K22_21_approx, rank22_21 = low_rank_approx_error(K22_21, epsilon)\n",
    "K22_22_approx, rank22_22 = low_rank_approx_error(K22_22, epsilon)\n",
    "\n",
    "print 'Submatrix 11'\n",
    "print rank11_11, rank11_12, rank11_21, rank11_22\n",
    "\n",
    "print 'Submatrix 22'\n",
    "print rank22_11, rank22_12, rank22_21, rank22_22"
   ]
  },
  {
   "cell_type": "markdown",
   "metadata": {},
   "source": [
    "Nice! The rank of the off diagonals keeps dropping! Moreover, in terms of memory, it is better to have four small matrices of rank 38 than one large matrix of rank 143!\n",
    "\n",
    "We could continue subdividing, generating a hierarchical structure of the matrix which will use a lot less memory than the original matrix.\n",
    "\n",
    "This worked very well because our points are nicely ordered such that the value is monotonically decaying as we move away from the diagonal. However, this might not be the case in, for example, boundary element methods (BEM). In BEM the matrix is diagonally dominant, but there is no guarantee that the values decrease monotonically: two elements that are far in the ordering, might be close-by in space. Then, to construct admissible blocks, we need to perform some permutations of rows and columns. In BEM, this is dealt with by the Adaptive-Cross Approximation (ACA) algorithm."
   ]
  },
  {
   "cell_type": "code",
   "execution_count": null,
   "metadata": {
    "collapsed": true
   },
   "outputs": [],
   "source": []
  }
 ],
 "metadata": {
  "kernelspec": {
   "display_name": "Python 2",
   "language": "python",
   "name": "python2"
  },
  "language_info": {
   "codemirror_mode": {
    "name": "ipython",
    "version": 2
   },
   "file_extension": ".py",
   "mimetype": "text/x-python",
   "name": "python",
   "nbconvert_exporter": "python",
   "pygments_lexer": "ipython2",
   "version": "2.7.9"
  }
 },
 "nbformat": 4,
 "nbformat_minor": 0
}
