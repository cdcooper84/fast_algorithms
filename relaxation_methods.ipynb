{
 "cells": [
  {
   "cell_type": "markdown",
   "metadata": {},
   "source": [
    "# Basic iterative methods\n",
    "\n",
    "This notebook covers some basic iterative methods: Jacobi, weighted Jacobi, and Gauss Seidel, comparing the convergence rate and their behavior with respect to frequency.\n",
    "\n",
    "## Jacobi"
   ]
  },
  {
   "cell_type": "code",
   "execution_count": null,
   "metadata": {
    "collapsed": true
   },
   "outputs": [],
   "source": [
    "import numpy\n",
    "import scipy.sparse\n",
    "from math import pi\n",
    "from matplotlib import pyplot\n",
    "%matplotlib inline\n",
    "\n",
    "def L2_residual(phi, f):\n",
    "    \"\"\"\n",
    "    Computes the L2-norm of the residual\n",
    "    Inputs:\n",
    "    -------\n",
    "      phi: (numpy.array of floats) solution vector\n",
    "        f: (numpy.array of floats) RHS\n",
    "    Returns:\n",
    "    --------\n",
    "        L2_norm: (float) L2 norm of the residual\n",
    "    \"\"\"\n",
    "    A_phi = numpy.zeros(len(phi)-2) # stores dot(A,phi)\n",
    "    A_phi[1:-1] = 2*phi[2:-2] - phi[1:-3] - phi[3:-1]\n",
    "    A_phi[0] = 2*phi[1] - phi[2]\n",
    "    A_phi[-1] = 2*phi[-2] - phi[-3]\n",
    "\n",
    "    res = f - A_phi\n",
    "    L2_norm = numpy.sqrt(numpy.sum(res*res))\n",
    "    \n",
    "    return L2_norm\n",
    "    \n",
    "\n",
    "def jacobi(phi, f, BC1, BC2, tol, max_iter):\n",
    "    \"\"\"\n",
    "    Solves a 1D Poisson equation with Jacobi and Dirichlet BCs\n",
    "    Inputs:\n",
    "    -------\n",
    "        phi: (array of float) solution vector\n",
    "        f  : (array of float) RHS vector\n",
    "        BC1: (float) boundary condition at 0\n",
    "        BC2: (float) boundary condition at L\n",
    "        tol: (float) tolerance\n",
    "    max_iter: (int) max number of iterations\n",
    "    Returns:\n",
    "    --------\n",
    "        phi: (array of float) solution vector\n",
    "  res_array: (array of float) array with residual at each iteration\n",
    "    \"\"\"\n",
    "    N = len(phi)\n",
    "    res = 1.\n",
    "    res_array = []\n",
    "    iteration = 0\n",
    "    while res>tol and iteration<max_iter:\n",
    "        phi_prev = phi.copy()\n",
    "        for i in range(1,len(phi)-1):\n",
    "            phi[i] = 0.5*(f[i-1] + phi_prev[i-1] + phi_prev[i+1])\n",
    "        phi[0]  = BC1\n",
    "        phi[-1] = BC2\n",
    "        res = L2_residual(phi, f)\n",
    "        res_array.append(res)\n",
    "        iteration += 1\n",
    "        \n",
    "    return phi, res_array\n",
    "        "
   ]
  },
  {
   "cell_type": "markdown",
   "metadata": {},
   "source": [
    "### Simple test case\n",
    "\n",
    "Let's solve this simple test case, where we know the solution is $\\sin(x)$:\n",
    "\\begin{align}\n",
    "-\\frac{\\partial^2\\phi}{\\partial x^2} &= \\sin x\\nonumber\\\\\n",
    "\\phi(0) &= 0\\\\\n",
    "\\phi(2\\pi) &= 0\n",
    "\\end{align}\n",
    "\n",
    "As an initial guess, we'll use $\\phi(x) = 0$, and we'll discretize in 21 nodes."
   ]
  },
  {
   "cell_type": "code",
   "execution_count": null,
   "metadata": {
    "collapsed": false
   },
   "outputs": [],
   "source": [
    "N = 101\n",
    "L = 2*pi\n",
    "h = L/(N-1)\n",
    "x = numpy.linspace(0,L,N)\n",
    "phi_jacobi = numpy.zeros(N)\n",
    "b = numpy.sin(x[1:-1])\n",
    "\n",
    "tol = 1e-4\n",
    "max_iter = 10000\n",
    "\n",
    "f = b*h*h\n",
    "\n",
    "phi_jacobi, res_array_jacobi = jacobi(phi_jacobi, f, 0., 0., tol, max_iter)"
   ]
  },
  {
   "cell_type": "markdown",
   "metadata": {},
   "source": [
    "### Weighted Jacobi"
   ]
  },
  {
   "cell_type": "code",
   "execution_count": null,
   "metadata": {
    "collapsed": false
   },
   "outputs": [],
   "source": [
    "def weight_jacobi(phi, f, BC1, BC2, tol, max_iter, omega):\n",
    "    \"\"\"\n",
    "    Solves a 1D Poisson equation with weighted Jacobi and Dirichlet BCs\n",
    "    Inputs:\n",
    "    -------\n",
    "        phi: (array of float) solution vector\n",
    "        f  : (array of float) RHS vector\n",
    "        BC1: (float) boundary condition at 0\n",
    "        BC2: (float) boundary condition at L\n",
    "        tol: (float) tolerance\n",
    "    max_iter: (int) max number of iterations\n",
    "    Returns:\n",
    "    --------\n",
    "        phi: (array of float) solution vector\n",
    "  res_array: (array of float) array with residual at each iteration\n",
    "    \"\"\"\n",
    "    N = len(phi)\n",
    "    res = 1.\n",
    "    res_array = []\n",
    "    iteration = 0\n",
    "    while res>tol and iteration<max_iter:\n",
    "        phi_prev = phi.copy()\n",
    "        for i in range(1,len(phi)-1):\n",
    "            phi_st = 0.5*(f[i-1] + phi_prev[i-1] + phi_prev[i+1])\n",
    "            phi[i] = (1-omega)*phi_prev[i] + omega*phi_st\n",
    "        phi[0]  = BC1\n",
    "        phi[-1] = BC2\n",
    "        res = L2_residual(phi, f)\n",
    "        res_array.append(res)\n",
    "        iteration += 1\n",
    "        \n",
    "    return phi, res_array\n",
    "\n",
    "omega = 2./3\n",
    "phi_wj = numpy.zeros(N)\n",
    "phi_wj, res_array_wj = weight_jacobi(phi_wj, f, 0., 0., tol, max_iter, omega)"
   ]
  },
  {
   "cell_type": "markdown",
   "metadata": {},
   "source": [
    "## Gauss-Seidel"
   ]
  },
  {
   "cell_type": "code",
   "execution_count": null,
   "metadata": {
    "collapsed": false
   },
   "outputs": [],
   "source": [
    "def gauss_seidel(phi, f, BC1, BC2, tol, max_iter):\n",
    "    \"\"\"\n",
    "    Solves a 1D Possion equation with Gauss-Seidel and Dirichlet BCs\n",
    "    Inputs:\n",
    "    -------\n",
    "        phi: (array of float) solution vector\n",
    "        f  : (array of float) RHS vector\n",
    "        BC1: (float) boundary condition at 0\n",
    "        BC2: (float) boundary condition at L\n",
    "        tol: (float) tolerance\n",
    "    max_iter: (int) max number of iterations\n",
    "    Returns:\n",
    "    --------\n",
    "        phi: (array of float) solution vector\n",
    "  res_array: (array of float) array with residual at each iteration\n",
    "    \"\"\"\n",
    "    N = len(phi)\n",
    "    res = 1.\n",
    "    res_array = []\n",
    "    iteration = 0\n",
    "    while res>tol and iteration<max_iter:\n",
    "        for i in range(1,len(phi)-1):\n",
    "            phi[i] = 0.5*(f[i-1] + phi[i-1] + phi[i+1])\n",
    "        phi[0]  = BC1\n",
    "        phi[-1] = BC2\n",
    "        res = L2_residual(phi, f)\n",
    "        res_array.append(res)\n",
    "        iteration += 1\n",
    "        \n",
    "    return phi, res_array"
   ]
  },
  {
   "cell_type": "markdown",
   "metadata": {},
   "source": [
    "### Same simple test as before"
   ]
  },
  {
   "cell_type": "code",
   "execution_count": null,
   "metadata": {
    "collapsed": false
   },
   "outputs": [],
   "source": [
    "phi_gs = numpy.zeros(N)\n",
    "phi_gs, res_array_gs = gauss_seidel(phi_gs, f, 0., 0., tol, max_iter)\n",
    "\n",
    "pyplot.semilogy(res_array_gs, c='k', ls=':', label='Gauss-Seidel')\n",
    "pyplot.semilogy(res_array_jacobi, c='k', ls='--', label='Jacobi')\n",
    "pyplot.semilogy(res_array_wj, c='k', ls='-', label='Weighted Jacobi')\n",
    "pyplot.legend(loc='best');"
   ]
  },
  {
   "cell_type": "markdown",
   "metadata": {},
   "source": [
    "## Relaxation and frequency\n",
    "\n",
    "How good are these methods to relax a solution? Let's see how they perform with frequency. We'll start from a function that is a sum of sine waves of different frequencies and see how they relax to zero.\n",
    "\n",
    "Let's use the initial guess $\\phi = \\sin(x) + \\sin(16x)$, which looks like"
   ]
  },
  {
   "cell_type": "code",
   "execution_count": null,
   "metadata": {
    "collapsed": false
   },
   "outputs": [],
   "source": [
    "phi = numpy.sin(x) + numpy.sin(8*x)\n",
    "pyplot.plot(phi)"
   ]
  },
  {
   "cell_type": "markdown",
   "metadata": {},
   "source": [
    "To relax that to zero, we need to solve a linear system with a zero vector as a RHS. Let's plot the results after 10, 100 and 1000 iterations"
   ]
  },
  {
   "cell_type": "code",
   "execution_count": null,
   "metadata": {
    "collapsed": false
   },
   "outputs": [],
   "source": [
    "tol = 1e-9\n",
    "max_iter = 10\n",
    "phi_10 = phi.copy()\n",
    "f = numpy.zeros(N-2)\n",
    "phi_10, res_array_10 = jacobi(phi_10, f, 0., 0., tol, max_iter)\n",
    "pyplot.plot(phi_10)\n",
    "pyplot.ylim([-1.5,1.5]);"
   ]
  },
  {
   "cell_type": "code",
   "execution_count": null,
   "metadata": {
    "collapsed": false
   },
   "outputs": [],
   "source": [
    "max_iter = 100\n",
    "phi_100 = phi.copy()\n",
    "phi_100, res_array_10 = jacobi(phi_100, f, 0., 0., tol, max_iter)\n",
    "pyplot.plot(phi_100)\n",
    "pyplot.ylim([-1.5,1.5]);"
   ]
  },
  {
   "cell_type": "code",
   "execution_count": null,
   "metadata": {
    "collapsed": false
   },
   "outputs": [],
   "source": [
    "max_iter = 1000\n",
    "phi_1000 = phi.copy()\n",
    "phi_1000, res_array_10 = jacobi(phi_1000, f, 0., 0., tol, max_iter)\n",
    "pyplot.plot(phi_1000)\n",
    "pyplot.ylim([-1.5,1.5]);"
   ]
  },
  {
   "cell_type": "markdown",
   "metadata": {},
   "source": [
    "See how it is very efficient at damping out high frequency errors, but very poor at low-frequency errors? Multigrid takes advantage of this! \n",
    "\n",
    "Try changing `N=101` to `N=51`. In relative terms, the low-frequency error has a higher frequency with respect to the mesh. See how it is much better at damping errors?"
   ]
  }
 ],
 "metadata": {
  "kernelspec": {
   "display_name": "Python 2",
   "language": "python",
   "name": "python2"
  },
  "language_info": {
   "codemirror_mode": {
    "name": "ipython",
    "version": 2
   },
   "file_extension": ".py",
   "mimetype": "text/x-python",
   "name": "python",
   "nbconvert_exporter": "python",
   "pygments_lexer": "ipython2",
   "version": "2.7.6"
  }
 },
 "nbformat": 4,
 "nbformat_minor": 0
}
